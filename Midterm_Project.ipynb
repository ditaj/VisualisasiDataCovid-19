{
  "nbformat": 4,
  "nbformat_minor": 0,
  "metadata": {
    "colab": {
      "name": "Midterm Project",
      "provenance": [],
      "collapsed_sections": []
    },
    "kernelspec": {
      "name": "python3",
      "display_name": "Python 3"
    },
    "language_info": {
      "name": "python"
    }
  },
  "cells": [
    {
      "cell_type": "markdown",
      "metadata": {
        "id": "Uaq2kS0V1XvG"
      },
      "source": [
        "**Dita Julaika Putri**\\\n",
        "**1301194244**\\\n",
        "**VISUALISASI DATA IF-42-GAB06**"
      ]
    },
    {
      "cell_type": "code",
      "metadata": {
        "id": "HibAEMt6Yra3",
        "colab": {
          "base_uri": "https://localhost:8080/"
        },
        "outputId": "d40b1158-7ead-40ad-e971-e14b45054df4"
      },
      "source": [
        "# menghubungkan data set dengan collab\n",
        "from google.colab import drive\n",
        "drive.mount('/content/drive')"
      ],
      "execution_count": 2,
      "outputs": [
        {
          "output_type": "stream",
          "name": "stdout",
          "text": [
            "Drive already mounted at /content/drive; to attempt to forcibly remount, call drive.mount(\"/content/drive\", force_remount=True).\n"
          ]
        }
      ]
    },
    {
      "cell_type": "code",
      "metadata": {
        "id": "yErPKVWNreEM"
      },
      "source": [
        "# import package\n",
        "import os\n",
        "import numpy as np \n",
        "import pandas as pd\n",
        "import matplotlib.pyplot as plt\n",
        "import seaborn as sns\n",
        "import datetime\n",
        "import warnings\n",
        "warnings.filterwarnings('ignore')"
      ],
      "execution_count": 3,
      "outputs": []
    },
    {
      "cell_type": "code",
      "metadata": {
        "colab": {
          "base_uri": "https://localhost:8080/"
        },
        "id": "B9N3hTxnlnsl",
        "outputId": "8c725c24-7bcd-4995-8119-17891596779e"
      },
      "source": [
        "!conda install -c anaconda xlrd --yes"
      ],
      "execution_count": 4,
      "outputs": [
        {
          "output_type": "stream",
          "name": "stdout",
          "text": [
            "/bin/bash: conda: command not found\n"
          ]
        }
      ]
    },
    {
      "cell_type": "code",
      "metadata": {
        "id": "88aHQcIhrjIH"
      },
      "source": [
        "# read dataset\n",
        "df1 = pd.read_csv('/content/drive/MyDrive/kulye/visdat/Data_Set 1.csv')"
      ],
      "execution_count": 5,
      "outputs": []
    },
    {
      "cell_type": "code",
      "metadata": {
        "colab": {
          "base_uri": "https://localhost:8080/",
          "height": 203
        },
        "id": "bLGXKmp7oKgo",
        "outputId": "8a68c455-73ac-4b6e-d1e3-0f62655e10e4"
      },
      "source": [
        "df1.head()"
      ],
      "execution_count": 6,
      "outputs": [
        {
          "output_type": "execute_result",
          "data": {
            "text/html": [
              "<div>\n",
              "<style scoped>\n",
              "    .dataframe tbody tr th:only-of-type {\n",
              "        vertical-align: middle;\n",
              "    }\n",
              "\n",
              "    .dataframe tbody tr th {\n",
              "        vertical-align: top;\n",
              "    }\n",
              "\n",
              "    .dataframe thead th {\n",
              "        text-align: right;\n",
              "    }\n",
              "</style>\n",
              "<table border=\"1\" class=\"dataframe\">\n",
              "  <thead>\n",
              "    <tr style=\"text-align: right;\">\n",
              "      <th></th>\n",
              "      <th>date</th>\n",
              "      <th>new_tested</th>\n",
              "      <th>acc_tested</th>\n",
              "      <th>new_confirmed</th>\n",
              "      <th>acc_confirmed</th>\n",
              "      <th>acc_negative</th>\n",
              "      <th>being_checked</th>\n",
              "      <th>isolated</th>\n",
              "    </tr>\n",
              "  </thead>\n",
              "  <tbody>\n",
              "    <tr>\n",
              "      <th>0</th>\n",
              "      <td>02-Mar-20</td>\n",
              "      <td>339</td>\n",
              "      <td>339</td>\n",
              "      <td>2</td>\n",
              "      <td>2</td>\n",
              "      <td>335</td>\n",
              "      <td>2</td>\n",
              "      <td>2</td>\n",
              "    </tr>\n",
              "    <tr>\n",
              "      <th>1</th>\n",
              "      <td>03-Mar-20</td>\n",
              "      <td>2</td>\n",
              "      <td>341</td>\n",
              "      <td>0</td>\n",
              "      <td>2</td>\n",
              "      <td>337</td>\n",
              "      <td>2</td>\n",
              "      <td>2</td>\n",
              "    </tr>\n",
              "    <tr>\n",
              "      <th>2</th>\n",
              "      <td>04-Mar-20</td>\n",
              "      <td>31</td>\n",
              "      <td>372</td>\n",
              "      <td>0</td>\n",
              "      <td>2</td>\n",
              "      <td>356</td>\n",
              "      <td>14</td>\n",
              "      <td>2</td>\n",
              "    </tr>\n",
              "    <tr>\n",
              "      <th>3</th>\n",
              "      <td>05-Mar-20</td>\n",
              "      <td>16</td>\n",
              "      <td>388</td>\n",
              "      <td>0</td>\n",
              "      <td>2</td>\n",
              "      <td>371</td>\n",
              "      <td>15</td>\n",
              "      <td>2</td>\n",
              "    </tr>\n",
              "    <tr>\n",
              "      <th>4</th>\n",
              "      <td>06-Mar-20</td>\n",
              "      <td>62</td>\n",
              "      <td>450</td>\n",
              "      <td>2</td>\n",
              "      <td>4</td>\n",
              "      <td>422</td>\n",
              "      <td>24</td>\n",
              "      <td>4</td>\n",
              "    </tr>\n",
              "  </tbody>\n",
              "</table>\n",
              "</div>"
            ],
            "text/plain": [
              "        date  new_tested  acc_tested  ...  acc_negative  being_checked  isolated\n",
              "0  02-Mar-20         339         339  ...           335              2         2\n",
              "1  03-Mar-20           2         341  ...           337              2         2\n",
              "2  04-Mar-20          31         372  ...           356             14         2\n",
              "3  05-Mar-20          16         388  ...           371             15         2\n",
              "4  06-Mar-20          62         450  ...           422             24         4\n",
              "\n",
              "[5 rows x 8 columns]"
            ]
          },
          "metadata": {},
          "execution_count": 6
        }
      ]
    },
    {
      "cell_type": "markdown",
      "metadata": {
        "id": "G0T2ASsZjMdG"
      },
      "source": [
        "**Data Set 1**\n",
        "\n",
        "Data set ini terdiri dari data historis terkait dengan kasus COVID-19 di Indonesia pada\n",
        "periode 2 – 31 Maret 2020. Data historis yang tersedia di antaranya jumlah akumulatif\n",
        "tes sampel, terkonfirmasi positif, terkonfirmasi negatif, dan data lainnya. <br><br>\n",
        "new_tested: Number of new tested in this day<br>\n",
        "acc_tested: Total number of tested samples<br>\tnew_confirmed: Number of new confirmed cases in this day<br> acc_confirmed: total/accumulate of confirmed cases<br>\tacc_negative: total/accumulate of negative cases<br>\tbeing_checked: total/accumulate of sample under examination<br>\n",
        "isolated: total/accumulate isolated patient"
      ]
    },
    {
      "cell_type": "markdown",
      "metadata": {
        "id": "2W-5tVrBhO9-"
      },
      "source": [
        "# **Soal 1** <br>\n",
        "Dengan menggunakan line plot, tampilkan perbandingan jumlah akumulatif tes sampel,\n",
        "terkonfirmasi positif dan terkonfirmasi negatif untuk periode waktu yang tersedia."
      ]
    },
    {
      "cell_type": "code",
      "metadata": {
        "colab": {
          "base_uri": "https://localhost:8080/",
          "height": 203
        },
        "id": "03nA5OhMlLA_",
        "outputId": "64add2f4-1e53-4b52-fa1f-363274bac28e"
      },
      "source": [
        "soal1 = df1[['acc_tested', 'acc_confirmed', 'acc_negative', 'date']]\n",
        "soal1.head()"
      ],
      "execution_count": 7,
      "outputs": [
        {
          "output_type": "execute_result",
          "data": {
            "text/html": [
              "<div>\n",
              "<style scoped>\n",
              "    .dataframe tbody tr th:only-of-type {\n",
              "        vertical-align: middle;\n",
              "    }\n",
              "\n",
              "    .dataframe tbody tr th {\n",
              "        vertical-align: top;\n",
              "    }\n",
              "\n",
              "    .dataframe thead th {\n",
              "        text-align: right;\n",
              "    }\n",
              "</style>\n",
              "<table border=\"1\" class=\"dataframe\">\n",
              "  <thead>\n",
              "    <tr style=\"text-align: right;\">\n",
              "      <th></th>\n",
              "      <th>acc_tested</th>\n",
              "      <th>acc_confirmed</th>\n",
              "      <th>acc_negative</th>\n",
              "      <th>date</th>\n",
              "    </tr>\n",
              "  </thead>\n",
              "  <tbody>\n",
              "    <tr>\n",
              "      <th>0</th>\n",
              "      <td>339</td>\n",
              "      <td>2</td>\n",
              "      <td>335</td>\n",
              "      <td>02-Mar-20</td>\n",
              "    </tr>\n",
              "    <tr>\n",
              "      <th>1</th>\n",
              "      <td>341</td>\n",
              "      <td>2</td>\n",
              "      <td>337</td>\n",
              "      <td>03-Mar-20</td>\n",
              "    </tr>\n",
              "    <tr>\n",
              "      <th>2</th>\n",
              "      <td>372</td>\n",
              "      <td>2</td>\n",
              "      <td>356</td>\n",
              "      <td>04-Mar-20</td>\n",
              "    </tr>\n",
              "    <tr>\n",
              "      <th>3</th>\n",
              "      <td>388</td>\n",
              "      <td>2</td>\n",
              "      <td>371</td>\n",
              "      <td>05-Mar-20</td>\n",
              "    </tr>\n",
              "    <tr>\n",
              "      <th>4</th>\n",
              "      <td>450</td>\n",
              "      <td>4</td>\n",
              "      <td>422</td>\n",
              "      <td>06-Mar-20</td>\n",
              "    </tr>\n",
              "  </tbody>\n",
              "</table>\n",
              "</div>"
            ],
            "text/plain": [
              "   acc_tested  acc_confirmed  acc_negative       date\n",
              "0         339              2           335  02-Mar-20\n",
              "1         341              2           337  03-Mar-20\n",
              "2         372              2           356  04-Mar-20\n",
              "3         388              2           371  05-Mar-20\n",
              "4         450              4           422  06-Mar-20"
            ]
          },
          "metadata": {},
          "execution_count": 7
        }
      ]
    },
    {
      "cell_type": "code",
      "metadata": {
        "colab": {
          "base_uri": "https://localhost:8080/",
          "height": 234
        },
        "id": "YT3tXPgv5_D9",
        "outputId": "d156221f-9a7c-44c9-dec5-1162d59942f2"
      },
      "source": [
        "soal1.index = soal1[\"date\"]\n",
        "soal1.head()"
      ],
      "execution_count": 8,
      "outputs": [
        {
          "output_type": "execute_result",
          "data": {
            "text/html": [
              "<div>\n",
              "<style scoped>\n",
              "    .dataframe tbody tr th:only-of-type {\n",
              "        vertical-align: middle;\n",
              "    }\n",
              "\n",
              "    .dataframe tbody tr th {\n",
              "        vertical-align: top;\n",
              "    }\n",
              "\n",
              "    .dataframe thead th {\n",
              "        text-align: right;\n",
              "    }\n",
              "</style>\n",
              "<table border=\"1\" class=\"dataframe\">\n",
              "  <thead>\n",
              "    <tr style=\"text-align: right;\">\n",
              "      <th></th>\n",
              "      <th>acc_tested</th>\n",
              "      <th>acc_confirmed</th>\n",
              "      <th>acc_negative</th>\n",
              "      <th>date</th>\n",
              "    </tr>\n",
              "    <tr>\n",
              "      <th>date</th>\n",
              "      <th></th>\n",
              "      <th></th>\n",
              "      <th></th>\n",
              "      <th></th>\n",
              "    </tr>\n",
              "  </thead>\n",
              "  <tbody>\n",
              "    <tr>\n",
              "      <th>02-Mar-20</th>\n",
              "      <td>339</td>\n",
              "      <td>2</td>\n",
              "      <td>335</td>\n",
              "      <td>02-Mar-20</td>\n",
              "    </tr>\n",
              "    <tr>\n",
              "      <th>03-Mar-20</th>\n",
              "      <td>341</td>\n",
              "      <td>2</td>\n",
              "      <td>337</td>\n",
              "      <td>03-Mar-20</td>\n",
              "    </tr>\n",
              "    <tr>\n",
              "      <th>04-Mar-20</th>\n",
              "      <td>372</td>\n",
              "      <td>2</td>\n",
              "      <td>356</td>\n",
              "      <td>04-Mar-20</td>\n",
              "    </tr>\n",
              "    <tr>\n",
              "      <th>05-Mar-20</th>\n",
              "      <td>388</td>\n",
              "      <td>2</td>\n",
              "      <td>371</td>\n",
              "      <td>05-Mar-20</td>\n",
              "    </tr>\n",
              "    <tr>\n",
              "      <th>06-Mar-20</th>\n",
              "      <td>450</td>\n",
              "      <td>4</td>\n",
              "      <td>422</td>\n",
              "      <td>06-Mar-20</td>\n",
              "    </tr>\n",
              "  </tbody>\n",
              "</table>\n",
              "</div>"
            ],
            "text/plain": [
              "           acc_tested  acc_confirmed  acc_negative       date\n",
              "date                                                         \n",
              "02-Mar-20         339              2           335  02-Mar-20\n",
              "03-Mar-20         341              2           337  03-Mar-20\n",
              "04-Mar-20         372              2           356  04-Mar-20\n",
              "05-Mar-20         388              2           371  05-Mar-20\n",
              "06-Mar-20         450              4           422  06-Mar-20"
            ]
          },
          "metadata": {},
          "execution_count": 8
        }
      ]
    },
    {
      "cell_type": "code",
      "metadata": {
        "colab": {
          "base_uri": "https://localhost:8080/",
          "height": 312
        },
        "id": "3vPwPcw4gzYU",
        "outputId": "155a0087-d04b-420f-c2ca-22bae1e07ccf"
      },
      "source": [
        "# line plot perbandingan jumlah akumulatif tes sampel dengan hasil\n",
        "soal1.plot(kind='line')\n",
        "\n",
        "plt.title('perbandingan jumlah akumulatif tes sampel dengan hasil')\n",
        "plt.ylabel('jumlah')\n",
        "plt.show"
      ],
      "execution_count": 9,
      "outputs": [
        {
          "output_type": "execute_result",
          "data": {
            "text/plain": [
              "<function matplotlib.pyplot.show>"
            ]
          },
          "metadata": {},
          "execution_count": 9
        },
        {
          "output_type": "display_data",
          "data": {
            "image/png": "[encoded data removed]",
            "text/plain": [
              "<Figure size 432x288 with 1 Axes>"
            ]
          },
          "metadata": {
            "needs_background": "light"
          }
        }
      ]
    },
    {
      "cell_type": "markdown",
      "metadata": {
        "id": "AVdxMDqQmv8g"
      },
      "source": [
        "# **Soal 2**\n",
        "• Hitunglah nilai positive rate dan negative rate untuk masing-masing waktu.<br>\n",
        "Positive\trate\t= Jumlah\tterkonfirmasi\tpositif/\n",
        "Jumlah\ttes\tsampel × 100%<br>\n",
        "Negative\trate\t= Jumlah\tterkonfirmasi\tnegatif/\n",
        "Jumlah\ttes\tsampel × 100%<br>\n",
        "• Dengan menggunakan bar plot, tampilkan perbandingan positivity rate dan\n",
        "negativity rate untuk periode waktu yang tersedia.<br>\n",
        "• Pada tanggal berapa nilai positive rate menunjukkan nilai tertinggi?<br>\n",
        "• Pada tanggal berapa nilai negative rate menunjukkan nilai tertinggi?"
      ]
    },
    {
      "cell_type": "code",
      "metadata": {
        "colab": {
          "base_uri": "https://localhost:8080/",
          "height": 203
        },
        "id": "SphOdk_P3fF2",
        "outputId": "faf24c98-77cf-4924-9423-fb285e1ea5f1"
      },
      "source": [
        "df1.head()"
      ],
      "execution_count": 10,
      "outputs": [
        {
          "output_type": "execute_result",
          "data": {
            "text/html": [
              "<div>\n",
              "<style scoped>\n",
              "    .dataframe tbody tr th:only-of-type {\n",
              "        vertical-align: middle;\n",
              "    }\n",
              "\n",
              "    .dataframe tbody tr th {\n",
              "        vertical-align: top;\n",
              "    }\n",
              "\n",
              "    .dataframe thead th {\n",
              "        text-align: right;\n",
              "    }\n",
              "</style>\n",
              "<table border=\"1\" class=\"dataframe\">\n",
              "  <thead>\n",
              "    <tr style=\"text-align: right;\">\n",
              "      <th></th>\n",
              "      <th>date</th>\n",
              "      <th>new_tested</th>\n",
              "      <th>acc_tested</th>\n",
              "      <th>new_confirmed</th>\n",
              "      <th>acc_confirmed</th>\n",
              "      <th>acc_negative</th>\n",
              "      <th>being_checked</th>\n",
              "      <th>isolated</th>\n",
              "    </tr>\n",
              "  </thead>\n",
              "  <tbody>\n",
              "    <tr>\n",
              "      <th>0</th>\n",
              "      <td>02-Mar-20</td>\n",
              "      <td>339</td>\n",
              "      <td>339</td>\n",
              "      <td>2</td>\n",
              "      <td>2</td>\n",
              "      <td>335</td>\n",
              "      <td>2</td>\n",
              "      <td>2</td>\n",
              "    </tr>\n",
              "    <tr>\n",
              "      <th>1</th>\n",
              "      <td>03-Mar-20</td>\n",
              "      <td>2</td>\n",
              "      <td>341</td>\n",
              "      <td>0</td>\n",
              "      <td>2</td>\n",
              "      <td>337</td>\n",
              "      <td>2</td>\n",
              "      <td>2</td>\n",
              "    </tr>\n",
              "    <tr>\n",
              "      <th>2</th>\n",
              "      <td>04-Mar-20</td>\n",
              "      <td>31</td>\n",
              "      <td>372</td>\n",
              "      <td>0</td>\n",
              "      <td>2</td>\n",
              "      <td>356</td>\n",
              "      <td>14</td>\n",
              "      <td>2</td>\n",
              "    </tr>\n",
              "    <tr>\n",
              "      <th>3</th>\n",
              "      <td>05-Mar-20</td>\n",
              "      <td>16</td>\n",
              "      <td>388</td>\n",
              "      <td>0</td>\n",
              "      <td>2</td>\n",
              "      <td>371</td>\n",
              "      <td>15</td>\n",
              "      <td>2</td>\n",
              "    </tr>\n",
              "    <tr>\n",
              "      <th>4</th>\n",
              "      <td>06-Mar-20</td>\n",
              "      <td>62</td>\n",
              "      <td>450</td>\n",
              "      <td>2</td>\n",
              "      <td>4</td>\n",
              "      <td>422</td>\n",
              "      <td>24</td>\n",
              "      <td>4</td>\n",
              "    </tr>\n",
              "  </tbody>\n",
              "</table>\n",
              "</div>"
            ],
            "text/plain": [
              "        date  new_tested  acc_tested  ...  acc_negative  being_checked  isolated\n",
              "0  02-Mar-20         339         339  ...           335              2         2\n",
              "1  03-Mar-20           2         341  ...           337              2         2\n",
              "2  04-Mar-20          31         372  ...           356             14         2\n",
              "3  05-Mar-20          16         388  ...           371             15         2\n",
              "4  06-Mar-20          62         450  ...           422             24         4\n",
              "\n",
              "[5 rows x 8 columns]"
            ]
          },
          "metadata": {},
          "execution_count": 10
        }
      ]
    },
    {
      "cell_type": "code",
      "metadata": {
        "id": "0Je6GBG1661R"
      },
      "source": [
        "# menghitung positive dan negative rate\n",
        "df1['positive_rate']=(df1['acc_confirmed']/df1['acc_tested']).round(4)*100\n",
        "df1['negative_rate']=(df1['acc_negative']/df1['acc_tested']).round(4)*100"
      ],
      "execution_count": 11,
      "outputs": []
    },
    {
      "cell_type": "code",
      "metadata": {
        "colab": {
          "base_uri": "https://localhost:8080/",
          "height": 203
        },
        "id": "z0WDWw6Yp-81",
        "outputId": "e75bd501-2e2d-4896-e177-4ac76d1bed2f"
      },
      "source": [
        "df1.head()"
      ],
      "execution_count": 12,
      "outputs": [
        {
          "output_type": "execute_result",
          "data": {
            "text/html": [
              "<div>\n",
              "<style scoped>\n",
              "    .dataframe tbody tr th:only-of-type {\n",
              "        vertical-align: middle;\n",
              "    }\n",
              "\n",
              "    .dataframe tbody tr th {\n",
              "        vertical-align: top;\n",
              "    }\n",
              "\n",
              "    .dataframe thead th {\n",
              "        text-align: right;\n",
              "    }\n",
              "</style>\n",
              "<table border=\"1\" class=\"dataframe\">\n",
              "  <thead>\n",
              "    <tr style=\"text-align: right;\">\n",
              "      <th></th>\n",
              "      <th>date</th>\n",
              "      <th>new_tested</th>\n",
              "      <th>acc_tested</th>\n",
              "      <th>new_confirmed</th>\n",
              "      <th>acc_confirmed</th>\n",
              "      <th>acc_negative</th>\n",
              "      <th>being_checked</th>\n",
              "      <th>isolated</th>\n",
              "      <th>positive_rate</th>\n",
              "      <th>negative_rate</th>\n",
              "    </tr>\n",
              "  </thead>\n",
              "  <tbody>\n",
              "    <tr>\n",
              "      <th>0</th>\n",
              "      <td>02-Mar-20</td>\n",
              "      <td>339</td>\n",
              "      <td>339</td>\n",
              "      <td>2</td>\n",
              "      <td>2</td>\n",
              "      <td>335</td>\n",
              "      <td>2</td>\n",
              "      <td>2</td>\n",
              "      <td>0.59</td>\n",
              "      <td>98.82</td>\n",
              "    </tr>\n",
              "    <tr>\n",
              "      <th>1</th>\n",
              "      <td>03-Mar-20</td>\n",
              "      <td>2</td>\n",
              "      <td>341</td>\n",
              "      <td>0</td>\n",
              "      <td>2</td>\n",
              "      <td>337</td>\n",
              "      <td>2</td>\n",
              "      <td>2</td>\n",
              "      <td>0.59</td>\n",
              "      <td>98.83</td>\n",
              "    </tr>\n",
              "    <tr>\n",
              "      <th>2</th>\n",
              "      <td>04-Mar-20</td>\n",
              "      <td>31</td>\n",
              "      <td>372</td>\n",
              "      <td>0</td>\n",
              "      <td>2</td>\n",
              "      <td>356</td>\n",
              "      <td>14</td>\n",
              "      <td>2</td>\n",
              "      <td>0.54</td>\n",
              "      <td>95.70</td>\n",
              "    </tr>\n",
              "    <tr>\n",
              "      <th>3</th>\n",
              "      <td>05-Mar-20</td>\n",
              "      <td>16</td>\n",
              "      <td>388</td>\n",
              "      <td>0</td>\n",
              "      <td>2</td>\n",
              "      <td>371</td>\n",
              "      <td>15</td>\n",
              "      <td>2</td>\n",
              "      <td>0.52</td>\n",
              "      <td>95.62</td>\n",
              "    </tr>\n",
              "    <tr>\n",
              "      <th>4</th>\n",
              "      <td>06-Mar-20</td>\n",
              "      <td>62</td>\n",
              "      <td>450</td>\n",
              "      <td>2</td>\n",
              "      <td>4</td>\n",
              "      <td>422</td>\n",
              "      <td>24</td>\n",
              "      <td>4</td>\n",
              "      <td>0.89</td>\n",
              "      <td>93.78</td>\n",
              "    </tr>\n",
              "  </tbody>\n",
              "</table>\n",
              "</div>"
            ],
            "text/plain": [
              "        date  new_tested  acc_tested  ...  isolated  positive_rate  negative_rate\n",
              "0  02-Mar-20         339         339  ...         2           0.59          98.82\n",
              "1  03-Mar-20           2         341  ...         2           0.59          98.83\n",
              "2  04-Mar-20          31         372  ...         2           0.54          95.70\n",
              "3  05-Mar-20          16         388  ...         2           0.52          95.62\n",
              "4  06-Mar-20          62         450  ...         4           0.89          93.78\n",
              "\n",
              "[5 rows x 10 columns]"
            ]
          },
          "metadata": {},
          "execution_count": 12
        }
      ]
    },
    {
      "cell_type": "code",
      "metadata": {
        "id": "3n-ol4FQ4FWM",
        "colab": {
          "base_uri": "https://localhost:8080/",
          "height": 203
        },
        "outputId": "c601f794-56bf-4212-c9c0-e610676c4036"
      },
      "source": [
        "bar = df1[['positive_rate', 'negative_rate', 'date']]\n",
        "bar.head()"
      ],
      "execution_count": 13,
      "outputs": [
        {
          "output_type": "execute_result",
          "data": {
            "text/html": [
              "<div>\n",
              "<style scoped>\n",
              "    .dataframe tbody tr th:only-of-type {\n",
              "        vertical-align: middle;\n",
              "    }\n",
              "\n",
              "    .dataframe tbody tr th {\n",
              "        vertical-align: top;\n",
              "    }\n",
              "\n",
              "    .dataframe thead th {\n",
              "        text-align: right;\n",
              "    }\n",
              "</style>\n",
              "<table border=\"1\" class=\"dataframe\">\n",
              "  <thead>\n",
              "    <tr style=\"text-align: right;\">\n",
              "      <th></th>\n",
              "      <th>positive_rate</th>\n",
              "      <th>negative_rate</th>\n",
              "      <th>date</th>\n",
              "    </tr>\n",
              "  </thead>\n",
              "  <tbody>\n",
              "    <tr>\n",
              "      <th>0</th>\n",
              "      <td>0.59</td>\n",
              "      <td>98.82</td>\n",
              "      <td>02-Mar-20</td>\n",
              "    </tr>\n",
              "    <tr>\n",
              "      <th>1</th>\n",
              "      <td>0.59</td>\n",
              "      <td>98.83</td>\n",
              "      <td>03-Mar-20</td>\n",
              "    </tr>\n",
              "    <tr>\n",
              "      <th>2</th>\n",
              "      <td>0.54</td>\n",
              "      <td>95.70</td>\n",
              "      <td>04-Mar-20</td>\n",
              "    </tr>\n",
              "    <tr>\n",
              "      <th>3</th>\n",
              "      <td>0.52</td>\n",
              "      <td>95.62</td>\n",
              "      <td>05-Mar-20</td>\n",
              "    </tr>\n",
              "    <tr>\n",
              "      <th>4</th>\n",
              "      <td>0.89</td>\n",
              "      <td>93.78</td>\n",
              "      <td>06-Mar-20</td>\n",
              "    </tr>\n",
              "  </tbody>\n",
              "</table>\n",
              "</div>"
            ],
            "text/plain": [
              "   positive_rate  negative_rate       date\n",
              "0           0.59          98.82  02-Mar-20\n",
              "1           0.59          98.83  03-Mar-20\n",
              "2           0.54          95.70  04-Mar-20\n",
              "3           0.52          95.62  05-Mar-20\n",
              "4           0.89          93.78  06-Mar-20"
            ]
          },
          "metadata": {},
          "execution_count": 13
        }
      ]
    },
    {
      "cell_type": "code",
      "metadata": {
        "colab": {
          "base_uri": "https://localhost:8080/",
          "height": 234
        },
        "id": "3HGxSZC_q7Io",
        "outputId": "2a506c56-ce59-4ced-f17b-ba15fdc98494"
      },
      "source": [
        "bar.index = soal1[\"date\"]\n",
        "bar.head()"
      ],
      "execution_count": 14,
      "outputs": [
        {
          "output_type": "execute_result",
          "data": {
            "text/html": [
              "<div>\n",
              "<style scoped>\n",
              "    .dataframe tbody tr th:only-of-type {\n",
              "        vertical-align: middle;\n",
              "    }\n",
              "\n",
              "    .dataframe tbody tr th {\n",
              "        vertical-align: top;\n",
              "    }\n",
              "\n",
              "    .dataframe thead th {\n",
              "        text-align: right;\n",
              "    }\n",
              "</style>\n",
              "<table border=\"1\" class=\"dataframe\">\n",
              "  <thead>\n",
              "    <tr style=\"text-align: right;\">\n",
              "      <th></th>\n",
              "      <th>positive_rate</th>\n",
              "      <th>negative_rate</th>\n",
              "      <th>date</th>\n",
              "    </tr>\n",
              "    <tr>\n",
              "      <th>date</th>\n",
              "      <th></th>\n",
              "      <th></th>\n",
              "      <th></th>\n",
              "    </tr>\n",
              "  </thead>\n",
              "  <tbody>\n",
              "    <tr>\n",
              "      <th>02-Mar-20</th>\n",
              "      <td>0.59</td>\n",
              "      <td>98.82</td>\n",
              "      <td>02-Mar-20</td>\n",
              "    </tr>\n",
              "    <tr>\n",
              "      <th>03-Mar-20</th>\n",
              "      <td>0.59</td>\n",
              "      <td>98.83</td>\n",
              "      <td>03-Mar-20</td>\n",
              "    </tr>\n",
              "    <tr>\n",
              "      <th>04-Mar-20</th>\n",
              "      <td>0.54</td>\n",
              "      <td>95.70</td>\n",
              "      <td>04-Mar-20</td>\n",
              "    </tr>\n",
              "    <tr>\n",
              "      <th>05-Mar-20</th>\n",
              "      <td>0.52</td>\n",
              "      <td>95.62</td>\n",
              "      <td>05-Mar-20</td>\n",
              "    </tr>\n",
              "    <tr>\n",
              "      <th>06-Mar-20</th>\n",
              "      <td>0.89</td>\n",
              "      <td>93.78</td>\n",
              "      <td>06-Mar-20</td>\n",
              "    </tr>\n",
              "  </tbody>\n",
              "</table>\n",
              "</div>"
            ],
            "text/plain": [
              "           positive_rate  negative_rate       date\n",
              "date                                              \n",
              "02-Mar-20           0.59          98.82  02-Mar-20\n",
              "03-Mar-20           0.59          98.83  03-Mar-20\n",
              "04-Mar-20           0.54          95.70  04-Mar-20\n",
              "05-Mar-20           0.52          95.62  05-Mar-20\n",
              "06-Mar-20           0.89          93.78  06-Mar-20"
            ]
          },
          "metadata": {},
          "execution_count": 14
        }
      ]
    },
    {
      "cell_type": "code",
      "metadata": {
        "colab": {
          "base_uri": "https://localhost:8080/",
          "height": 234
        },
        "id": "xlgk-tjOt4X8",
        "outputId": "e29f6141-6641-4bb6-8892-d3a8dda397f3"
      },
      "source": [
        "bar.drop(['date'], axis=1, inplace=True)\n",
        "bar.head()"
      ],
      "execution_count": 15,
      "outputs": [
        {
          "output_type": "execute_result",
          "data": {
            "text/html": [
              "<div>\n",
              "<style scoped>\n",
              "    .dataframe tbody tr th:only-of-type {\n",
              "        vertical-align: middle;\n",
              "    }\n",
              "\n",
              "    .dataframe tbody tr th {\n",
              "        vertical-align: top;\n",
              "    }\n",
              "\n",
              "    .dataframe thead th {\n",
              "        text-align: right;\n",
              "    }\n",
              "</style>\n",
              "<table border=\"1\" class=\"dataframe\">\n",
              "  <thead>\n",
              "    <tr style=\"text-align: right;\">\n",
              "      <th></th>\n",
              "      <th>positive_rate</th>\n",
              "      <th>negative_rate</th>\n",
              "    </tr>\n",
              "    <tr>\n",
              "      <th>date</th>\n",
              "      <th></th>\n",
              "      <th></th>\n",
              "    </tr>\n",
              "  </thead>\n",
              "  <tbody>\n",
              "    <tr>\n",
              "      <th>02-Mar-20</th>\n",
              "      <td>0.59</td>\n",
              "      <td>98.82</td>\n",
              "    </tr>\n",
              "    <tr>\n",
              "      <th>03-Mar-20</th>\n",
              "      <td>0.59</td>\n",
              "      <td>98.83</td>\n",
              "    </tr>\n",
              "    <tr>\n",
              "      <th>04-Mar-20</th>\n",
              "      <td>0.54</td>\n",
              "      <td>95.70</td>\n",
              "    </tr>\n",
              "    <tr>\n",
              "      <th>05-Mar-20</th>\n",
              "      <td>0.52</td>\n",
              "      <td>95.62</td>\n",
              "    </tr>\n",
              "    <tr>\n",
              "      <th>06-Mar-20</th>\n",
              "      <td>0.89</td>\n",
              "      <td>93.78</td>\n",
              "    </tr>\n",
              "  </tbody>\n",
              "</table>\n",
              "</div>"
            ],
            "text/plain": [
              "           positive_rate  negative_rate\n",
              "date                                   \n",
              "02-Mar-20           0.59          98.82\n",
              "03-Mar-20           0.59          98.83\n",
              "04-Mar-20           0.54          95.70\n",
              "05-Mar-20           0.52          95.62\n",
              "06-Mar-20           0.89          93.78"
            ]
          },
          "metadata": {},
          "execution_count": 15
        }
      ]
    },
    {
      "cell_type": "code",
      "metadata": {
        "colab": {
          "base_uri": "https://localhost:8080/",
          "height": 462
        },
        "id": "BWdXrGqJrPC5",
        "outputId": "2b35e7c3-a376-46cf-ba32-50cfda37d2b1"
      },
      "source": [
        "# bar plot perbandingan positivity rate dan negativity rate\n",
        "bar.plot(kind='bar', figsize=(10,6))\n",
        "\n",
        "plt.title('perbandingan positivity rate dan negativity rate')\n",
        "plt.ylabel('rate')\n",
        "plt.show"
      ],
      "execution_count": 16,
      "outputs": [
        {
          "output_type": "execute_result",
          "data": {
            "text/plain": [
              "<function matplotlib.pyplot.show>"
            ]
          },
          "metadata": {},
          "execution_count": 16
        },
        {
          "output_type": "display_data",
          "data": {
            "image/png": "[encoded data removed]",
            "text/plain": [
              "<Figure size 720x432 with 1 Axes>"
            ]
          },
          "metadata": {
            "needs_background": "light"
          }
        }
      ]
    },
    {
      "cell_type": "markdown",
      "metadata": {
        "id": "Czu9KKWZukWS"
      },
      "source": [
        "dari bar plot diatas, dapat dilihat bahwa nilai positive rate menunjukkan nilai tertinggi pada tanggal 31-Mar-20 dan nilai negative rate menunjukkan nilai tertinggi pada tanggal 3-Mar-20"
      ]
    },
    {
      "cell_type": "markdown",
      "metadata": {
        "id": "neDjuRYf8dAK"
      },
      "source": [
        "# **Soal 3**\n",
        "• Dengan menggunakan heatmap, tunjukkan korelasi antar variabel yang ada pada\n",
        "dataset.<br>\n",
        "• Tentukan variabel-variabel yang memiliki nilai korelasi paling positif, dan berikan\n",
        "penjelasan terkait nilai korelasi tersebut.<br>\n",
        "• Tentukan variabel-variabel yang memiliki nilai korelasi paling negatif, dan berikan\n",
        "penjelasan terkait nilai korelasi tersebut."
      ]
    },
    {
      "cell_type": "code",
      "metadata": {
        "colab": {
          "base_uri": "https://localhost:8080/",
          "height": 390
        },
        "id": "wz26g6R290nY",
        "outputId": "e27ff12f-048e-4410-838e-e6d4f6e69a5d"
      },
      "source": [
        "# korelasi antar variabel dengan heatmap\n",
        "plt.figure(figsize=(5,5))\n",
        "sns.heatmap(df1.corr(), cmap = 'RdYlGn', annot = True)\n",
        "plt.show()"
      ],
      "execution_count": 17,
      "outputs": [
        {
          "output_type": "display_data",
          "data": {
            "image/png": "[encoded data removed]",
            "text/plain": [
              "<Figure size 360x360 with 2 Axes>"
            ]
          },
          "metadata": {
            "needs_background": "light"
          }
        }
      ]
    },
    {
      "cell_type": "markdown",
      "metadata": {
        "id": "W0pfyPFvvwRQ"
      },
      "source": [
        "**Dari dataset yang diberikan** \\\n",
        "Dari tabel heatmap dan tabel korelasi diatas didapatkan bahwa **korelasi tertinggi** adalah 1 dengan variabel acc_tested dengan acc_negative, acc_confirmed dengan isolated, acc negative dengan acc_tested, dan isolated dengan acc_confirmed. Sedangkan untuk **korelasi terendah** yaitu 0.61 dengan variabel acc_tested dengan being_checked dan acc_negative dengan being_checked."
      ]
    },
    {
      "cell_type": "markdown",
      "metadata": {
        "id": "jltOLEU5zx0U"
      },
      "source": [
        "**Daridataset setelah diketahui positive dan negative rate** \\\n",
        "\n",
        "Dari tabel heatmap dan tabel korelasi diatas didapatkan bahwa **korelasi tertinggi** adalah 1 dengan variabel acc_tested dengan acc_negative, dan acc_confirmed dengan isolatede. Sedangkan untuk **korelasi terendah** yaitu 0.9 dengan variabel positive_rate dengan negative_rate."
      ]
    },
    {
      "cell_type": "markdown",
      "metadata": {
        "id": "7d-rmXopz2kd"
      },
      "source": [
        "**Data Set 2**\n",
        "\n",
        "Data set ini menyajikan data spasial terkait kasus COVID-19 di masing-masing provinsi di Indonesia. Data yang disajikan di antaranya jumlah populasi, jumlah kasus positif, dan\n",
        "lain-lain.<br><br>\n",
        "province_id: province id based on alphabetic<br>\n",
        "province_name: name of province in Bahasa Indonesia<br>\n",
        "island: located island<br>\n",
        "iso_code: province ISO code<br>\n",
        "capital_city: name of capital city<br>\n",
        "population: number of estimated<br>\n",
        "population based on 2014 census<br> population_kmsquare: number of population per kilo meters square<br>\t confirmed: number of confirmed cases<br>\tdeceased: number of deceased cases<br>\n",
        "released: number of released cases<br>"
      ]
    },
    {
      "cell_type": "code",
      "metadata": {
        "id": "Eq0FRvxjnppT"
      },
      "source": [
        "# read dataset2\n",
        "df2 = pd.read_csv('/content/drive/MyDrive/kulye/visdat/Data Set 2.csv')"
      ],
      "execution_count": 18,
      "outputs": []
    },
    {
      "cell_type": "code",
      "metadata": {
        "colab": {
          "base_uri": "https://localhost:8080/",
          "height": 203
        },
        "id": "vyDJREnNpPrU",
        "outputId": "ef0edf4a-07c8-4f3c-de31-36b81e23b29f"
      },
      "source": [
        "df2.head()"
      ],
      "execution_count": 19,
      "outputs": [
        {
          "output_type": "execute_result",
          "data": {
            "text/html": [
              "<div>\n",
              "<style scoped>\n",
              "    .dataframe tbody tr th:only-of-type {\n",
              "        vertical-align: middle;\n",
              "    }\n",
              "\n",
              "    .dataframe tbody tr th {\n",
              "        vertical-align: top;\n",
              "    }\n",
              "\n",
              "    .dataframe thead th {\n",
              "        text-align: right;\n",
              "    }\n",
              "</style>\n",
              "<table border=\"1\" class=\"dataframe\">\n",
              "  <thead>\n",
              "    <tr style=\"text-align: right;\">\n",
              "      <th></th>\n",
              "      <th>province_id</th>\n",
              "      <th>province_name</th>\n",
              "      <th>island</th>\n",
              "      <th>iso_code</th>\n",
              "      <th>capital_city</th>\n",
              "      <th>population</th>\n",
              "      <th>population_kmsquare</th>\n",
              "      <th>confirmed</th>\n",
              "      <th>deceased</th>\n",
              "      <th>released</th>\n",
              "      <th>longitude</th>\n",
              "      <th>latitude</th>\n",
              "    </tr>\n",
              "  </thead>\n",
              "  <tbody>\n",
              "    <tr>\n",
              "      <th>0</th>\n",
              "      <td>1</td>\n",
              "      <td>Aceh</td>\n",
              "      <td>Sumatra</td>\n",
              "      <td>AC</td>\n",
              "      <td>Banda Aceh</td>\n",
              "      <td>4906835</td>\n",
              "      <td>86</td>\n",
              "      <td>4</td>\n",
              "      <td>0</td>\n",
              "      <td>0</td>\n",
              "      <td>9.672.895</td>\n",
              "      <td>3.869.994</td>\n",
              "    </tr>\n",
              "    <tr>\n",
              "      <th>1</th>\n",
              "      <td>2</td>\n",
              "      <td>Bali</td>\n",
              "      <td>Kepulauan Nusa Tenggara</td>\n",
              "      <td>BA</td>\n",
              "      <td>Denpasar</td>\n",
              "      <td>4104900</td>\n",
              "      <td>738</td>\n",
              "      <td>9</td>\n",
              "      <td>2</td>\n",
              "      <td>0</td>\n",
              "      <td>11.512.255</td>\n",
              "      <td>-825.731</td>\n",
              "    </tr>\n",
              "    <tr>\n",
              "      <th>2</th>\n",
              "      <td>3</td>\n",
              "      <td>Banten</td>\n",
              "      <td>Jawa</td>\n",
              "      <td>BT</td>\n",
              "      <td>Serang</td>\n",
              "      <td>11704877</td>\n",
              "      <td>1298</td>\n",
              "      <td>84</td>\n",
              "      <td>4</td>\n",
              "      <td>1</td>\n",
              "      <td>106.160.889</td>\n",
              "      <td>-6.315.299</td>\n",
              "    </tr>\n",
              "    <tr>\n",
              "      <th>3</th>\n",
              "      <td>4</td>\n",
              "      <td>Bengkulu</td>\n",
              "      <td>Sumatra</td>\n",
              "      <td>BE</td>\n",
              "      <td>Bengkulu</td>\n",
              "      <td>1844800</td>\n",
              "      <td>93</td>\n",
              "      <td>0</td>\n",
              "      <td>0</td>\n",
              "      <td>0</td>\n",
              "      <td>102.315.674</td>\n",
              "      <td>-3.414.725</td>\n",
              "    </tr>\n",
              "    <tr>\n",
              "      <th>4</th>\n",
              "      <td>5</td>\n",
              "      <td>DI Yogyakarta</td>\n",
              "      <td>Jawa</td>\n",
              "      <td>YO</td>\n",
              "      <td>Yogyakarta</td>\n",
              "      <td>3553100</td>\n",
              "      <td>1134</td>\n",
              "      <td>22</td>\n",
              "      <td>2</td>\n",
              "      <td>1</td>\n",
              "      <td>110.390.625</td>\n",
              "      <td>-7.863.382</td>\n",
              "    </tr>\n",
              "  </tbody>\n",
              "</table>\n",
              "</div>"
            ],
            "text/plain": [
              "   province_id  province_name  ...    longitude    latitude\n",
              "0            1           Aceh  ...    9.672.895   3.869.994\n",
              "1            2           Bali  ...   11.512.255    -825.731\n",
              "2            3         Banten  ...  106.160.889  -6.315.299\n",
              "3            4       Bengkulu  ...  102.315.674  -3.414.725\n",
              "4            5  DI Yogyakarta  ...  110.390.625  -7.863.382\n",
              "\n",
              "[5 rows x 12 columns]"
            ]
          },
          "metadata": {},
          "execution_count": 19
        }
      ]
    },
    {
      "cell_type": "markdown",
      "metadata": {
        "id": "DwhsciYlpiqO"
      },
      "source": [
        "# **Soal 4**\n",
        "• Hitunglah nilai persentase perbandingan jumlah terkonfirmasi positif terhadap\n",
        "populasi per km2 untuk masing-masing provinsi.<br>\n",
        "• Dengan menggunakan bar plot, tampilkan perbandingan nilai persentase tersebut\n",
        "untuk masing-masing provinsi.<br>\n",
        "• Tampilkan 3 provinsi dengan nilai persentasi terbesar beserta nilai persentasenya."
      ]
    },
    {
      "cell_type": "code",
      "metadata": {
        "id": "MZKPfbVaqwM6",
        "colab": {
          "base_uri": "https://localhost:8080/",
          "height": 203
        },
        "outputId": "f98fdea1-e390-4636-caf9-e3a127960210"
      },
      "source": [
        "soal4 = df2[['confirmed', 'population_kmsquare', 'province_name']]\n",
        "soal4.head()"
      ],
      "execution_count": 20,
      "outputs": [
        {
          "output_type": "execute_result",
          "data": {
            "text/html": [
              "<div>\n",
              "<style scoped>\n",
              "    .dataframe tbody tr th:only-of-type {\n",
              "        vertical-align: middle;\n",
              "    }\n",
              "\n",
              "    .dataframe tbody tr th {\n",
              "        vertical-align: top;\n",
              "    }\n",
              "\n",
              "    .dataframe thead th {\n",
              "        text-align: right;\n",
              "    }\n",
              "</style>\n",
              "<table border=\"1\" class=\"dataframe\">\n",
              "  <thead>\n",
              "    <tr style=\"text-align: right;\">\n",
              "      <th></th>\n",
              "      <th>confirmed</th>\n",
              "      <th>population_kmsquare</th>\n",
              "      <th>province_name</th>\n",
              "    </tr>\n",
              "  </thead>\n",
              "  <tbody>\n",
              "    <tr>\n",
              "      <th>0</th>\n",
              "      <td>4</td>\n",
              "      <td>86</td>\n",
              "      <td>Aceh</td>\n",
              "    </tr>\n",
              "    <tr>\n",
              "      <th>1</th>\n",
              "      <td>9</td>\n",
              "      <td>738</td>\n",
              "      <td>Bali</td>\n",
              "    </tr>\n",
              "    <tr>\n",
              "      <th>2</th>\n",
              "      <td>84</td>\n",
              "      <td>1298</td>\n",
              "      <td>Banten</td>\n",
              "    </tr>\n",
              "    <tr>\n",
              "      <th>3</th>\n",
              "      <td>0</td>\n",
              "      <td>93</td>\n",
              "      <td>Bengkulu</td>\n",
              "    </tr>\n",
              "    <tr>\n",
              "      <th>4</th>\n",
              "      <td>22</td>\n",
              "      <td>1134</td>\n",
              "      <td>DI Yogyakarta</td>\n",
              "    </tr>\n",
              "  </tbody>\n",
              "</table>\n",
              "</div>"
            ],
            "text/plain": [
              "   confirmed  population_kmsquare  province_name\n",
              "0          4                   86           Aceh\n",
              "1          9                  738           Bali\n",
              "2         84                 1298         Banten\n",
              "3          0                   93       Bengkulu\n",
              "4         22                 1134  DI Yogyakarta"
            ]
          },
          "metadata": {},
          "execution_count": 20
        }
      ]
    },
    {
      "cell_type": "code",
      "metadata": {
        "colab": {
          "base_uri": "https://localhost:8080/",
          "height": 234
        },
        "id": "uxHYIaIjgmcX",
        "outputId": "31c93d85-3283-445f-e861-7db325681f24"
      },
      "source": [
        "soal4.index = soal4[\"province_name\"]\n",
        "soal4.head()"
      ],
      "execution_count": 21,
      "outputs": [
        {
          "output_type": "execute_result",
          "data": {
            "text/html": [
              "<div>\n",
              "<style scoped>\n",
              "    .dataframe tbody tr th:only-of-type {\n",
              "        vertical-align: middle;\n",
              "    }\n",
              "\n",
              "    .dataframe tbody tr th {\n",
              "        vertical-align: top;\n",
              "    }\n",
              "\n",
              "    .dataframe thead th {\n",
              "        text-align: right;\n",
              "    }\n",
              "</style>\n",
              "<table border=\"1\" class=\"dataframe\">\n",
              "  <thead>\n",
              "    <tr style=\"text-align: right;\">\n",
              "      <th></th>\n",
              "      <th>confirmed</th>\n",
              "      <th>population_kmsquare</th>\n",
              "      <th>province_name</th>\n",
              "    </tr>\n",
              "    <tr>\n",
              "      <th>province_name</th>\n",
              "      <th></th>\n",
              "      <th></th>\n",
              "      <th></th>\n",
              "    </tr>\n",
              "  </thead>\n",
              "  <tbody>\n",
              "    <tr>\n",
              "      <th>Aceh</th>\n",
              "      <td>4</td>\n",
              "      <td>86</td>\n",
              "      <td>Aceh</td>\n",
              "    </tr>\n",
              "    <tr>\n",
              "      <th>Bali</th>\n",
              "      <td>9</td>\n",
              "      <td>738</td>\n",
              "      <td>Bali</td>\n",
              "    </tr>\n",
              "    <tr>\n",
              "      <th>Banten</th>\n",
              "      <td>84</td>\n",
              "      <td>1298</td>\n",
              "      <td>Banten</td>\n",
              "    </tr>\n",
              "    <tr>\n",
              "      <th>Bengkulu</th>\n",
              "      <td>0</td>\n",
              "      <td>93</td>\n",
              "      <td>Bengkulu</td>\n",
              "    </tr>\n",
              "    <tr>\n",
              "      <th>DI Yogyakarta</th>\n",
              "      <td>22</td>\n",
              "      <td>1134</td>\n",
              "      <td>DI Yogyakarta</td>\n",
              "    </tr>\n",
              "  </tbody>\n",
              "</table>\n",
              "</div>"
            ],
            "text/plain": [
              "               confirmed  population_kmsquare  province_name\n",
              "province_name                                               \n",
              "Aceh                   4                   86           Aceh\n",
              "Bali                   9                  738           Bali\n",
              "Banten                84                 1298         Banten\n",
              "Bengkulu               0                   93       Bengkulu\n",
              "DI Yogyakarta         22                 1134  DI Yogyakarta"
            ]
          },
          "metadata": {},
          "execution_count": 21
        }
      ]
    },
    {
      "cell_type": "code",
      "metadata": {
        "colab": {
          "base_uri": "https://localhost:8080/"
        },
        "id": "v0CpC9bSiu9T",
        "outputId": "ddb5fc1b-2d80-45b8-9142-99525bee1fee"
      },
      "source": [
        "persentase = (soal4['confirmed']/soal4['population_kmsquare']).round(4)*100\n",
        "persentase"
      ],
      "execution_count": 22,
      "outputs": [
        {
          "output_type": "execute_result",
          "data": {
            "text/plain": [
              "province_name\n",
              "Aceh                          4.65\n",
              "Bali                          1.22\n",
              "Banten                        6.47\n",
              "Bengkulu                      0.00\n",
              "DI Yogyakarta                 1.94\n",
              "DKI Jakarta                  44.20\n",
              "Gorontalo                     0.00\n",
              "Jambi                         1.59\n",
              "Jawa Barat                    7.50\n",
              "Jawa Tengah                   4.36\n",
              "Jawa Timur                    8.19\n",
              "Kalimantan Barat              9.76\n",
              "Kalimantan Selatan            0.93\n",
              "Kalimantan Tengah            37.50\n",
              "Kalimantan Timur             64.71\n",
              "Kalimantan Utara              0.00\n",
              "Kepulauan Bangka Belitung     0.00\n",
              "Kepulauan Riau                2.11\n",
              "Lampung                       1.76\n",
              "Maluku                        2.94\n",
              "Maluku Utara                  3.70\n",
              "Nusa Tenggara Barat           0.84\n",
              "Nusa Tenggara Timur           0.00\n",
              "Papua                        70.00\n",
              "Papua Barat                   0.00\n",
              "Riau                          1.52\n",
              "Sulawesi Barat                0.00\n",
              "Sulawesi Selatan             15.85\n",
              "Sulawesi Tengah               2.38\n",
              "Sulawesi Tenggara             4.48\n",
              "Sulawesi Utara                1.17\n",
              "Sumatra Barat                 4.13\n",
              "Sumatra Selatan               1.08\n",
              "Sumatra Utara                 4.23\n",
              "dtype: float64"
            ]
          },
          "metadata": {},
          "execution_count": 22
        }
      ]
    },
    {
      "cell_type": "code",
      "metadata": {
        "colab": {
          "base_uri": "https://localhost:8080/",
          "height": 516
        },
        "id": "9tA7WNEnjbz6",
        "outputId": "eff57e5d-36b9-40c1-80b4-3524b60288ea"
      },
      "source": [
        "# bar plot perbandingan nilai persentase untuk masing-masing provinsi\n",
        "persentase.plot(kind='bar', figsize=(10,6))\n",
        "\n",
        "plt.xlabel('province')\n",
        "plt.ylabel('persentase')\n",
        "plt.show()"
      ],
      "execution_count": 23,
      "outputs": [
        {
          "output_type": "display_data",
          "data": {
            "image/png": "[encoded data removed]",
            "text/plain": [
              "<Figure size 720x432 with 1 Axes>"
            ]
          },
          "metadata": {
            "needs_background": "light"
          }
        }
      ]
    },
    {
      "cell_type": "code",
      "metadata": {
        "colab": {
          "base_uri": "https://localhost:8080/"
        },
        "id": "aaIpzmJ_kQp8",
        "outputId": "2bdde31c-cd21-466e-fda4-381e223274c5"
      },
      "source": [
        "# Top 3 provinsi dengan nilai persentase terbesar\n",
        "persentase.sort_values(ascending=False, axis=0, inplace=True)\n",
        "top3 = persentase.head(3)\n",
        "top3"
      ],
      "execution_count": 24,
      "outputs": [
        {
          "output_type": "execute_result",
          "data": {
            "text/plain": [
              "province_name\n",
              "Papua               70.00\n",
              "Kalimantan Timur    64.71\n",
              "DKI Jakarta         44.20\n",
              "dtype: float64"
            ]
          },
          "metadata": {},
          "execution_count": 24
        }
      ]
    },
    {
      "cell_type": "markdown",
      "metadata": {
        "id": "QXFf2fMvpz0t"
      },
      "source": [
        "# **Soal 5**\n",
        "Dengan menggunakan pie chart, tampilkan persentase jumlah terkonfimasi positif untuk\n",
        "masing-masing pulau."
      ]
    },
    {
      "cell_type": "code",
      "metadata": {
        "colab": {
          "base_uri": "https://localhost:8080/",
          "height": 203
        },
        "id": "aMhTqOBll1t3",
        "outputId": "6e1d6088-22ce-411c-af87-e4fe5d846027"
      },
      "source": [
        "soal5 = df2[['confirmed', 'island']]\n",
        "soal5.head()"
      ],
      "execution_count": 25,
      "outputs": [
        {
          "output_type": "execute_result",
          "data": {
            "text/html": [
              "<div>\n",
              "<style scoped>\n",
              "    .dataframe tbody tr th:only-of-type {\n",
              "        vertical-align: middle;\n",
              "    }\n",
              "\n",
              "    .dataframe tbody tr th {\n",
              "        vertical-align: top;\n",
              "    }\n",
              "\n",
              "    .dataframe thead th {\n",
              "        text-align: right;\n",
              "    }\n",
              "</style>\n",
              "<table border=\"1\" class=\"dataframe\">\n",
              "  <thead>\n",
              "    <tr style=\"text-align: right;\">\n",
              "      <th></th>\n",
              "      <th>confirmed</th>\n",
              "      <th>island</th>\n",
              "    </tr>\n",
              "  </thead>\n",
              "  <tbody>\n",
              "    <tr>\n",
              "      <th>0</th>\n",
              "      <td>4</td>\n",
              "      <td>Sumatra</td>\n",
              "    </tr>\n",
              "    <tr>\n",
              "      <th>1</th>\n",
              "      <td>9</td>\n",
              "      <td>Kepulauan Nusa Tenggara</td>\n",
              "    </tr>\n",
              "    <tr>\n",
              "      <th>2</th>\n",
              "      <td>84</td>\n",
              "      <td>Jawa</td>\n",
              "    </tr>\n",
              "    <tr>\n",
              "      <th>3</th>\n",
              "      <td>0</td>\n",
              "      <td>Sumatra</td>\n",
              "    </tr>\n",
              "    <tr>\n",
              "      <th>4</th>\n",
              "      <td>22</td>\n",
              "      <td>Jawa</td>\n",
              "    </tr>\n",
              "  </tbody>\n",
              "</table>\n",
              "</div>"
            ],
            "text/plain": [
              "   confirmed                   island\n",
              "0          4                  Sumatra\n",
              "1          9  Kepulauan Nusa Tenggara\n",
              "2         84                     Jawa\n",
              "3          0                  Sumatra\n",
              "4         22                     Jawa"
            ]
          },
          "metadata": {},
          "execution_count": 25
        }
      ]
    },
    {
      "cell_type": "code",
      "metadata": {
        "colab": {
          "base_uri": "https://localhost:8080/",
          "height": 234
        },
        "id": "mhwj5z_ql_fg",
        "outputId": "95d3795b-4783-4cf3-fd5d-a128a42eb435"
      },
      "source": [
        "soal5.index = soal5['island']\n",
        "soal5.head()"
      ],
      "execution_count": 26,
      "outputs": [
        {
          "output_type": "execute_result",
          "data": {
            "text/html": [
              "<div>\n",
              "<style scoped>\n",
              "    .dataframe tbody tr th:only-of-type {\n",
              "        vertical-align: middle;\n",
              "    }\n",
              "\n",
              "    .dataframe tbody tr th {\n",
              "        vertical-align: top;\n",
              "    }\n",
              "\n",
              "    .dataframe thead th {\n",
              "        text-align: right;\n",
              "    }\n",
              "</style>\n",
              "<table border=\"1\" class=\"dataframe\">\n",
              "  <thead>\n",
              "    <tr style=\"text-align: right;\">\n",
              "      <th></th>\n",
              "      <th>confirmed</th>\n",
              "      <th>island</th>\n",
              "    </tr>\n",
              "    <tr>\n",
              "      <th>island</th>\n",
              "      <th></th>\n",
              "      <th></th>\n",
              "    </tr>\n",
              "  </thead>\n",
              "  <tbody>\n",
              "    <tr>\n",
              "      <th>Sumatra</th>\n",
              "      <td>4</td>\n",
              "      <td>Sumatra</td>\n",
              "    </tr>\n",
              "    <tr>\n",
              "      <th>Kepulauan Nusa Tenggara</th>\n",
              "      <td>9</td>\n",
              "      <td>Kepulauan Nusa Tenggara</td>\n",
              "    </tr>\n",
              "    <tr>\n",
              "      <th>Jawa</th>\n",
              "      <td>84</td>\n",
              "      <td>Jawa</td>\n",
              "    </tr>\n",
              "    <tr>\n",
              "      <th>Sumatra</th>\n",
              "      <td>0</td>\n",
              "      <td>Sumatra</td>\n",
              "    </tr>\n",
              "    <tr>\n",
              "      <th>Jawa</th>\n",
              "      <td>22</td>\n",
              "      <td>Jawa</td>\n",
              "    </tr>\n",
              "  </tbody>\n",
              "</table>\n",
              "</div>"
            ],
            "text/plain": [
              "                         confirmed                   island\n",
              "island                                                     \n",
              "Sumatra                          4                  Sumatra\n",
              "Kepulauan Nusa Tenggara          9  Kepulauan Nusa Tenggara\n",
              "Jawa                            84                     Jawa\n",
              "Sumatra                          0                  Sumatra\n",
              "Jawa                            22                     Jawa"
            ]
          },
          "metadata": {},
          "execution_count": 26
        }
      ]
    },
    {
      "cell_type": "code",
      "metadata": {
        "colab": {
          "base_uri": "https://localhost:8080/",
          "height": 234
        },
        "id": "GqUPEcfjmjzj",
        "outputId": "8fd76c54-d4be-4386-87d7-5cc30ff7e4d7"
      },
      "source": [
        "soal5.drop(['island'], axis=1, inplace=True)\n",
        "soal5.head()"
      ],
      "execution_count": 27,
      "outputs": [
        {
          "output_type": "execute_result",
          "data": {
            "text/html": [
              "<div>\n",
              "<style scoped>\n",
              "    .dataframe tbody tr th:only-of-type {\n",
              "        vertical-align: middle;\n",
              "    }\n",
              "\n",
              "    .dataframe tbody tr th {\n",
              "        vertical-align: top;\n",
              "    }\n",
              "\n",
              "    .dataframe thead th {\n",
              "        text-align: right;\n",
              "    }\n",
              "</style>\n",
              "<table border=\"1\" class=\"dataframe\">\n",
              "  <thead>\n",
              "    <tr style=\"text-align: right;\">\n",
              "      <th></th>\n",
              "      <th>confirmed</th>\n",
              "    </tr>\n",
              "    <tr>\n",
              "      <th>island</th>\n",
              "      <th></th>\n",
              "    </tr>\n",
              "  </thead>\n",
              "  <tbody>\n",
              "    <tr>\n",
              "      <th>Sumatra</th>\n",
              "      <td>4</td>\n",
              "    </tr>\n",
              "    <tr>\n",
              "      <th>Kepulauan Nusa Tenggara</th>\n",
              "      <td>9</td>\n",
              "    </tr>\n",
              "    <tr>\n",
              "      <th>Jawa</th>\n",
              "      <td>84</td>\n",
              "    </tr>\n",
              "    <tr>\n",
              "      <th>Sumatra</th>\n",
              "      <td>0</td>\n",
              "    </tr>\n",
              "    <tr>\n",
              "      <th>Jawa</th>\n",
              "      <td>22</td>\n",
              "    </tr>\n",
              "  </tbody>\n",
              "</table>\n",
              "</div>"
            ],
            "text/plain": [
              "                         confirmed\n",
              "island                            \n",
              "Sumatra                          4\n",
              "Kepulauan Nusa Tenggara          9\n",
              "Jawa                            84\n",
              "Sumatra                          0\n",
              "Jawa                            22"
            ]
          },
          "metadata": {},
          "execution_count": 27
        }
      ]
    },
    {
      "cell_type": "code",
      "metadata": {
        "colab": {
          "base_uri": "https://localhost:8080/",
          "height": 295
        },
        "id": "zRttJvGOmNZH",
        "outputId": "2112cc52-cf5e-4325-8499-62dffdee7ada"
      },
      "source": [
        "soal5 = soal5.groupby('island', axis=0).sum()\n",
        "soal5"
      ],
      "execution_count": 28,
      "outputs": [
        {
          "output_type": "execute_result",
          "data": {
            "text/html": [
              "<div>\n",
              "<style scoped>\n",
              "    .dataframe tbody tr th:only-of-type {\n",
              "        vertical-align: middle;\n",
              "    }\n",
              "\n",
              "    .dataframe tbody tr th {\n",
              "        vertical-align: top;\n",
              "    }\n",
              "\n",
              "    .dataframe thead th {\n",
              "        text-align: right;\n",
              "    }\n",
              "</style>\n",
              "<table border=\"1\" class=\"dataframe\">\n",
              "  <thead>\n",
              "    <tr style=\"text-align: right;\">\n",
              "      <th></th>\n",
              "      <th>confirmed</th>\n",
              "    </tr>\n",
              "    <tr>\n",
              "      <th>island</th>\n",
              "      <th></th>\n",
              "    </tr>\n",
              "  </thead>\n",
              "  <tbody>\n",
              "    <tr>\n",
              "      <th>Jawa</th>\n",
              "      <td>911</td>\n",
              "    </tr>\n",
              "    <tr>\n",
              "      <th>Kalimantan</th>\n",
              "      <td>22</td>\n",
              "    </tr>\n",
              "    <tr>\n",
              "      <th>Kepulauan Maluku</th>\n",
              "      <td>2</td>\n",
              "    </tr>\n",
              "    <tr>\n",
              "      <th>Kepulauan Nusa Tenggara</th>\n",
              "      <td>11</td>\n",
              "    </tr>\n",
              "    <tr>\n",
              "      <th>Papua</th>\n",
              "      <td>7</td>\n",
              "    </tr>\n",
              "    <tr>\n",
              "      <th>Sulawesi</th>\n",
              "      <td>35</td>\n",
              "    </tr>\n",
              "    <tr>\n",
              "      <th>Sumatra</th>\n",
              "      <td>29</td>\n",
              "    </tr>\n",
              "  </tbody>\n",
              "</table>\n",
              "</div>"
            ],
            "text/plain": [
              "                         confirmed\n",
              "island                            \n",
              "Jawa                           911\n",
              "Kalimantan                      22\n",
              "Kepulauan Maluku                 2\n",
              "Kepulauan Nusa Tenggara         11\n",
              "Papua                            7\n",
              "Sulawesi                        35\n",
              "Sumatra                         29"
            ]
          },
          "metadata": {},
          "execution_count": 28
        }
      ]
    },
    {
      "cell_type": "code",
      "metadata": {
        "colab": {
          "base_uri": "https://localhost:8080/",
          "height": 357
        },
        "id": "Abczkuacmgz3",
        "outputId": "b0650b06-fe72-4c41-ce94-b96843e8350c"
      },
      "source": [
        "# pie chart untuk menampilkan persentase jumlah terkonfimasi positif untuk masing-masing pulau\n",
        "explode_list = [0.1, 0.2, 0.3, 0.1, 0.3, 0.2, 0.1]\n",
        "soal5['confirmed'].plot(kind='pie',\n",
        "                        figsize=(15,6),\n",
        "                        autopct='%1.1f%%',\n",
        "                        startangle=90,\n",
        "                        shadow=True,\n",
        "                        labels=None,\n",
        "                        explode=explode_list\n",
        "                        )\n",
        "plt.axis('equal')\n",
        "plt.legend(labels=soal5.index, loc='upper left')\n",
        "plt.show()"
      ],
      "execution_count": 29,
      "outputs": [
        {
          "output_type": "display_data",
          "data": {
            "image/png": "[encoded data removed]",
            "text/plain": [
              "<Figure size 1080x432 with 1 Axes>"
            ]
          },
          "metadata": {}
        }
      ]
    }
  ]
}